{
 "cells": [
  {
   "cell_type": "markdown",
   "metadata": {},
   "source": [
    "# Category Theory for Programmers"
   ]
  },
  {
   "cell_type": "markdown",
   "metadata": {},
   "source": [
    "## 1.1"
   ]
  },
  {
   "cell_type": "markdown",
   "metadata": {},
   "source": [
    "### Problems"
   ]
  },
  {
   "cell_type": "markdown",
   "metadata": {},
   "source": [
    "1. Implement, as best as you can, the identity function in your favorite language (or the second favorite, if your favorite language happens to be Haskell)."
   ]
  },
  {
   "cell_type": "code",
   "execution_count": 1,
   "metadata": {},
   "outputs": [],
   "source": [
    "# problem 1\n",
    "def ident(x):\n",
    "    return x"
   ]
  },
  {
   "cell_type": "markdown",
   "metadata": {},
   "source": [
    "2. Implement the composition function in your favorite language. It takes two functions as arguments and returns a function that is their composition."
   ]
  },
  {
   "cell_type": "code",
   "execution_count": 2,
   "metadata": {},
   "outputs": [],
   "source": [
    "def compose(f, g):\n",
    "    def composed(x):\n",
    "        return f(g(x))\n",
    "    return composed"
   ]
  },
  {
   "cell_type": "markdown",
   "metadata": {},
   "source": [
    "3. Write a program that tries to test that your composition function respects identity."
   ]
  },
  {
   "cell_type": "code",
   "execution_count": 3,
   "metadata": {},
   "outputs": [],
   "source": [
    "def test_compose_ident():\n",
    "    def square(x):\n",
    "        return x * x\n",
    "\n",
    "    for x in range(0, 10):\n",
    "        assert compose(square, ident)(x) == compose(ident, square)(x) == square(x)\n",
    "\n",
    "test_compose_ident()"
   ]
  },
  {
   "cell_type": "markdown",
   "metadata": {},
   "source": [
    "4. Is the world-wide web a category in any sense? Are links morphisms?\n",
    "\n",
    "* The web could be a category if there is a morphism whenever there is a path via links between two sites. Links themselves can't be the morphisms since there won't always be a self-link or a composition link.\n",
    "\n",
    "5. Is Facebook a category, with people as objects and friendships as morphisms?\n",
    "\n",
    "* Facebook is not a category with friendships being morphisms because they don't obey composition.\n",
    "\n",
    "6. When is a directed graph a category?\n",
    "\n",
    "* A directed graph is a category whenever every node has a self-loop, and the existence of a path from u -> v implies edge (u, v)"
   ]
  },
  {
   "cell_type": "markdown",
   "metadata": {},
   "source": [
    "## 1.2"
   ]
  },
  {
   "cell_type": "markdown",
   "metadata": {},
   "source": [
    "* Would like a correspondence between (set, function) and (type, haskell function), but there is a disanalogy due to non-halting computations. All types are then extended with _|_ (\"Bottom\"), to represent failing to terminate.\n",
    "* Category of Haskell types and functions is `Hask`"
   ]
  },
  {
   "cell_type": "markdown",
   "metadata": {},
   "source": [
    "### Methods of showing program correctness\n",
    "* Operational semantics: state how a program would execute on an abstract machine\n",
    "    * Basically just have to run the program on the idealized machine...\n",
    "* Denotational semantics: Every programming construct is given a mathematical interpretation\n",
    "    * Can give easy sales pitch for Haskell with `fact n = product [1..n]` being the definition of factorial\n",
    "    * However, mapping I/O onto math seemed difficult until Eugenio Moggi found that it could be mapped to monads."
   ]
  },
  {
   "cell_type": "markdown",
   "metadata": {},
   "source": [
    "### Some Haskell types\n",
    "* Void -> Empty set\n",
    "    * Functions taking `Void` arguments can't be invoked\n",
    "    * `absurd :: Void -> a` is uncallable and polymorphic in return type (from falsity follows anything)\n",
    "* Types for singleton sets (e.g. C++ `void`)\n",
    "    * Functions with void inputs may always be called, since the value just \"is\". Think of it as being called with a dummy value.\n",
    "    * It seems that in this framing of functions, there's no way to discuss a function with no inputs other than `absurd`\n",
    "    * Haskell uses () (\"unit\") for this value.\n",
    "    * Pure functions of which map () to another type just pick out a value of the target type\n",
    "    * Pure functions which return () do nothing\n",
    "         * Because the formula `fInt:: Integer -> ()`, `fInt _ = ()` is the same for all input types, the function is called parametrically polymorphic\n",
    "         * This function is called `unit`\n",
    "* Bool\n",
    "    * Two values\n",
    "    * Pure functions from Bool just pick two values from the target type\n",
    "    * Functions to Bool are called predicates"
   ]
  },
  {
   "cell_type": "markdown",
   "metadata": {},
   "source": [
    "### Problems\n",
    "1. Define a higher-order function (or a function object) memoize in your favorite language. This function takes a pure function f as an argument and returns a function that behaves almost exactly like f, except that it only calls the original function once for every argument, stores the result internally, and subsequently returns this stored result every time it’s called with the same argument. You can tell the memoized function from the original by watching its performance. For instance, try to memoize a function that takes a long time to evaluate. You’ll have to wait for the result the first time you call it, but on subsequent calls, with the same argument, you should get the result immediately."
   ]
  },
  {
   "cell_type": "code",
   "execution_count": 4,
   "metadata": {},
   "outputs": [],
   "source": [
    "from functools import wraps\n",
    "def memoize(f):\n",
    "    table = {}\n",
    "    @wraps(f)\n",
    "    def inner(x):\n",
    "        if x not in table:\n",
    "            table[x] = f(x)\n",
    "        return table[x]\n",
    "    return inner"
   ]
  },
  {
   "cell_type": "markdown",
   "metadata": {},
   "source": [
    "2. Try to memoize a function from your standard library that you normally use to produce random numbers. Does it work?"
   ]
  },
  {
   "cell_type": "code",
   "execution_count": 5,
   "metadata": {},
   "outputs": [
    {
     "name": "stdout",
     "output_type": "stream",
     "text": [
      "0\n",
      "0\n",
      "0\n"
     ]
    }
   ],
   "source": [
    "import random\n",
    "from functools import partial\n",
    "randint_from_zero = partial(random.randint, 0)\n",
    "memoized_randint = memoize(randint_from_zero)\n",
    "print(memoized_randint(7))\n",
    "print(memoized_randint(6))\n",
    "print(memoized_randint(7))"
   ]
  },
  {
   "cell_type": "markdown",
   "metadata": {},
   "source": [
    "Doesn't work\n",
    "\n",
    "3. Most random number generators can be initialized with a seed. Implement a function that takes a seed, calls the random number generator with that seed, and returns the result. Memoize that function. Does it work?"
   ]
  },
  {
   "cell_type": "code",
   "execution_count": 6,
   "metadata": {},
   "outputs": [
    {
     "name": "stdout",
     "output_type": "stream",
     "text": [
      "0.27981547357298786\n",
      "0.9279915658776743\n",
      "0.27981547357298786\n",
      "0.27981547357298786\n",
      "0.9279915658776743\n",
      "0.27981547357298786\n"
     ]
    }
   ],
   "source": [
    "def random_from_seed(seed):\n",
    "    random.seed(seed)\n",
    "    return random.random()\n",
    "\n",
    "memoized_random = memoize(random_from_seed)\n",
    "print(random_from_seed(73))\n",
    "print(random_from_seed(62))\n",
    "print(random_from_seed(73))\n",
    "print(memoized_random(73))\n",
    "print(memoized_random(62))\n",
    "print(memoized_random(73))"
   ]
  },
  {
   "cell_type": "markdown",
   "metadata": {},
   "source": [
    "Works\n",
    "\n",
    "4. Which of these C++ functions are pure? Try to memoize them and observe what happens when you call them multiple times: memoized and not.\n",
    "    1. The factorial function from the example in the text.\n",
    "    2. ```c++\n",
    "std::getchar()\n",
    "```\n",
    "\n",
    "    3. > ```c++\n",
    "bool f() { \n",
    "    std::cout << \"Hello!\" << std::endl;\n",
    "    return true; \n",
    "}\n",
    "```\n",
    "\n",
    "    4. > ```c++\n",
    "int f(int x)\n",
    "{\n",
    "    static int y = 0;\n",
    "    y += x;\n",
    "    return y;\n",
    "}```\n",
    "\n",
    "    Only A is pure, assuming I'm remembering how static variables work in C++\n",
    "\n",
    "5. How many different functions are there from Bool to Bool? Can you implement them all?\n",
    "\n",
    "4"
   ]
  },
  {
   "cell_type": "code",
   "execution_count": 7,
   "metadata": {},
   "outputs": [],
   "source": [
    "def always_true(b):\n",
    "    return True\n",
    "\n",
    "def always_false(b):\n",
    "    return False\n",
    "\n",
    "def ident(b):\n",
    "    return b\n",
    "\n",
    "def not_(b):\n",
    "    return not b"
   ]
  },
  {
   "cell_type": "markdown",
   "metadata": {},
   "source": [
    "6. Draw a picture of a category whose only objects are the types Void, () (unit), and Bool; with arrows corresponding to all possible functions between these types. Label the arrows with the names of the functions.\n",
    "\n",
    "No"
   ]
  },
  {
   "cell_type": "markdown",
   "metadata": {},
   "source": [
    "## 1.3 Categories Great and Small\n",
    "\n",
    "* Empty category\n",
    "    * Mostly important in relationship to other categories\n",
    "* Free category\n",
    "    * Given a directed graph, add all self loops, take each pair of composable edges (in edge meeting out edge), and add their composition to the graph\n",
    "    * It's stated that this usually gives you infinitely many edges, so I assume that the composition of (u,v) and (v, w) is not the same as (u, t), (t, w)\n",
    "    * In general \"free construction\" is the process of completing a structure by extending it with a minimum number of items to satisfy some laws\n",
    "\n",
    "* Orders\n",
    "    * Morphisms as relations\n",
    "    * Pre-orders are categories:\n",
    "        * $a \\le a$ for all a\n",
    "        * $a \\le b,\\:b \\le c \\implies a \\le c$\n",
    "    * Partial orders\n",
    "        * Pre-order plus...\n",
    "        * $a \\le b,\\:b \\le a$ implies $a$ is $b$\n",
    "    * Total orders\n",
    "         * Partial order plus...\n",
    "         * For all $a$ and $b$, either $a \\le b$, or $b \\le a$\n",
    "         \n",
    "    * Thin Categories: When a pre-order is viewed as a category, there is at most one morphism from any a to any b\n",
    "    * The set of morphisms from $a$ to $b$ in category $C$ is call the hom-set and is written $C(a, b)$, or $\\text{Hom}_C(a, b)$\n",
    "    * All hom-sets either have 0 or 1 element in a thin category"
   ]
  },
  {
   "cell_type": "markdown",
   "metadata": {},
   "source": [
    "### Monoids as sets\n",
    "* Set with an associative binary operation that has an identity element.\n",
    "* Examples: Integers with addition, Strings with concatenation\n",
    "```\n",
    "class Monoid m where\n",
    "    mempty :: m\n",
    "    mappend :: m -> m -> m\n",
    "```"
   ]
  },
  {
   "cell_type": "markdown",
   "metadata": {},
   "source": [
    "### Monoids as categories\n",
    "* Consider operation of adding 5 to each natural number: 0 -> 5, 1 -> 6 etc\n",
    "* Can compose adders: 5 adder composed with 7 adder is 12 adder\n",
    "* `mappend` above is taking elements of the monoid set to the function corresponding to \"adding\" that element\n",
    "* Monoids are single element categories with morphisms that compose correctly\n",
    "* In the case of string concatenation, could consider right or left appenders, which lead to mirrored composition tables\n",
    "* Can always extract a set from a single-object category, namely the hom-set of the single object\n",
    "    * Equipped with the composition operator, it is a monoid\n",
    "    * Technically the morphisms could be too numerous to be a set\n",
    "        * A category in which all hom-sets are sets is called locally small"
   ]
  },
  {
   "cell_type": "markdown",
   "metadata": {},
   "source": [
    "###Problems\n",
    "1. Generate a free category from:\n",
    "    1. A graph with one node and no edges\n",
    "        * Identity arrow from node to itself\n",
    "    2. A graph with one node and one (directed) edge (hint: this edge can be composed with itself)\n",
    "        * Call edge $f$. Morphisms are identity on node, and $f$, $f∘f$, $f∘f∘f$ and so on.\n",
    "    3. A graph with two nodes and a single arrow between them\n",
    "        * Only add identity morphisms\n",
    "    4. A graph with a single node and 26 arrows marked with the letters of the alphabet: a, b, c … z.\n",
    "        * Morphisms are all strings including the empty string\n",
    "2. What kind of order is this?\n",
    "    1. A set of sets with the inclusion relation: A is included in B if every element of A is also an element of B.\n",
    "        * Partial order\n",
    "    2. C++ types with the following subtyping relation: T1 is a subtype of T2 if a pointer to T1 can be passed to a function that expects a pointer to T2 without triggering a compilation error.\n",
    "        * Pre-order\n",
    "3. Considering that Bool is a set of two values True and False, show that it forms two (set-theoretical) monoids with respect to, respectively, operator && (AND) and || (OR).\n",
    "        * && and || are associative\n",
    "        * True is &&'s identity, and False is ||'s identity\n",
    "4. Represent the Bool monoid with the AND operator as a category: List the morphisms and their rules of composition.\n",
    "    * Morphisms are `T = lambda x: True && x` and `F = lambda x: False && x`\n",
    "    * $F∘F = F$\n",
    "    * $T∘F = F$\n",
    "    * $F∘T = F$\n",
    "    * $T∘T = T$\n",
    "5. Represent addition modulo 3 as a monoid category.\n",
    "    * Morphisms are addition with 0, 1, and 2\n",
    "    |   |0|1|2|\n",
    "    |:--|-|-|-|\n",
    "    |0|0|1|2|\n",
    "    |1|1|2|0|\n",
    "    |2|2|0|1|\n",
    "    "
   ]
  },
  {
   "cell_type": "markdown",
   "metadata": {},
   "source": [
    "## 1.4 Kleisli Categories"
   ]
  },
  {
   "cell_type": "markdown",
   "metadata": {},
   "source": [
    "* The Writer Category\n",
    "    * Have all functions additionally return a log message for example\n",
    "    * Want an embellished version of `isEven :: int -> bool` which includes logging\n",
    "        * Even though embellished function returns a pair `(bool, string)`, it's still considered an arrow between `int` and ` bool`\n",
    "    * Can't use normal function composition since the extra strings aren't valid inputs to arrows coming from bool\n",
    "    * New recipe for composition:\n",
    "        * Execute first embellished func\n",
    "        * Execute second func on first part of output of first func\n",
    "        * Concatenate second outputs of both calls\n",
    "        * Return tuple of first part of second func return, and concatenated string\n",
    "    * Identity morphisms are identities, and append an empty string to the log\n",
    "    * Can generalize this to any monoid for the \"state\" part\n",
    "### Kleisli Categories\n",
    "    * Writer is an example\n",
    "    * A Kleisli category has (vaguely speaking):\n",
    "        * Type as objects\n",
    "        * Embellished functions as morphisms\n",
    "### Problems\n",
    "1. Construct the Kleisli category for partial functions (define composition and identity)."
   ]
  },
  {
   "cell_type": "markdown",
   "metadata": {},
   "source": [
    "* The Writer Category\n",
    "    * Have all functions additionally return a log message for example\n",
    "    * Want an embellished version of `isEven :: int -> bool` which includes logging\n",
    "        * Even though embellished function returns a pair `(bool, string)`, it's still considered an arrow between `int` and ` bool`\n",
    "    * Can't use normal function composition since the extra strings aren't valid inputs to arrows coming from bool\n",
    "    * New recipe for composition:\n",
    "        * Execute first embellished func\n",
    "        * Execute second func on first part of output of first func\n",
    "        * Concatenate second outputs of both calls\n",
    "        * Return tuple of first part of second func return, and concatenated string\n",
    "    * Identity morphisms are identities, and append an empty string to the log\n",
    "    * Can generalize this to any monoid for the \"state\" part\n",
    "    \n",
    "### Kleisli Categories\n",
    "    * Writer is an example\n",
    "    * A Kleisli category has (vaguely speaking):\n",
    "        * Type as objects\n",
    "        * Embellished functions as morphisms\n",
    "        \n",
    "### Problems\n",
    "1. Construct the Kleisli category for partial functions (define composition and identity).\n",
    "    * Composition of `f :: a -> b` and `g :: b -> c` is a function which:\n",
    "        * Runs `f` on input\n",
    "        * If output is not valid, returns `optional<c>{}`\n",
    "        * Otherwise returns `g(f(input))`\n",
    "\n",
    "2. Implement the embellished function safe_reciprocal that returns a valid reciprocal of its argument, if it’s different from zero."
   ]
  },
  {
   "cell_type": "code",
   "execution_count": 8,
   "metadata": {},
   "outputs": [],
   "source": [
    "class Optional:\n",
    "    def __init__(self, value=None):\n",
    "        self.value = value\n",
    "        self.valid = self.value is not None\n",
    "\n",
    "def safe_root(x):\n",
    "    return Optional(x ** 0.5 if x >= 0 else None)\n",
    "\n",
    "def safe_reciprocal(x):\n",
    "    return Optional(1  / x if x != 0 else None)"
   ]
  },
  {
   "cell_type": "markdown",
   "metadata": {},
   "source": [
    "3. Compose safe_root and safe_reciprocal to implement safe_root_reciprocal that calculates sqrt(1/x) whenever possible."
   ]
  },
  {
   "cell_type": "code",
   "execution_count": 9,
   "metadata": {
    "scrolled": true
   },
   "outputs": [],
   "source": [
    "def compose_optional(f, g):\n",
    "    def inner(x):\n",
    "        out1 = g(x)\n",
    "        return Optional() if not out1.valid else f(out1.value)\n",
    "    return inner\n",
    "\n",
    "safe_inv_sqrt = compose_optional(safe_root, safe_reciprocal)"
   ]
  },
  {
   "cell_type": "code",
   "execution_count": 10,
   "metadata": {
    "scrolled": true
   },
   "outputs": [
    {
     "name": "stdout",
     "output_type": "stream",
     "text": [
      "None\n",
      "None\n",
      "0.7071067811865476\n",
      "None\n",
      "1.0\n"
     ]
    }
   ],
   "source": [
    "print(safe_inv_sqrt(0).value)\n",
    "print(safe_inv_sqrt(-1).value)\n",
    "print(safe_inv_sqrt(2).value)\n",
    "print(safe_inv_sqrt(-0.).value)\n",
    "print(safe_inv_sqrt(1).value)"
   ]
  },
  {
   "cell_type": "markdown",
   "metadata": {},
   "source": [
    "## 1.5 Producs and coproducts"
   ]
  },
  {
   "cell_type": "markdown",
   "metadata": {},
   "source": [
    "* In category theory, objects can only be distinguished from each other by their morphisms\n",
    "* The universal construction for defining objects in terms of their relationships:\n",
    "    * Choose a pattern, find all its occurrences in the category, and pick the \"best fit\""
   ]
  },
  {
   "cell_type": "markdown",
   "metadata": {},
   "source": [
    "### Initial object\n",
    "* The simplest shape\n",
    "* Has exactly one morphism going to every object\n",
    "* This doesn't guarantee uniqueness, but does guarantee uniqueness up to isomorphism\n",
    "* Examples\n",
    "    * Initial element of a poset is its least element\n",
    "    * In category of sets and functions, initial object is the empty set\n",
    "    "
   ]
  },
  {
   "cell_type": "markdown",
   "metadata": {},
   "source": [
    "### Terminal object\n",
    "* Call object $a$ more terminal than $b$ if there is a morphism going from $b$ to $a$\n",
    "* The *terminal object* is the object with exactly one morphism coming to it from any object in the category\n",
    "* Unique up to isomorphism\n",
    "* Examples\n",
    "    * Largest element of poset\n",
    "    * Unit in Haskell, void in C++"
   ]
  },
  {
   "cell_type": "markdown",
   "metadata": {},
   "source": [
    "### Duality\n",
    "* From category C, get the *opposite category* $C^{\\text{op}}$ by:\n",
    "    * Reversing all arrows\n",
    "    * Modify composition:\n",
    "        * $f::a\\rightarrow b$ and $g::b\\rightarrow c$ composing to $h:: a \\rightarrow c$ with $g \\circ f = h$ implies:\n",
    "        * $f^{\\text{op}}::b\\rightarrow a$ and $g^{\\text{op}}::c \\rightarrow b$ compose to $h^{\\text{op}}::c\\rightarrow a$ with $h^{\\text{op}} = f^{\\text{op}}\\circ g^{\\text{op}}$\n",
    "* Terminal object is initial object in opposite category"
   ]
  },
  {
   "cell_type": "markdown",
   "metadata": {},
   "source": [
    "### Isomorphisms\n",
    "* An isomorphism is an invertible morphism, or a pair of morphisms which are inverses of each other\n",
    "    * $f \\circ g = \\text{id}$\n",
    "    * $g \\circ f = \\text{id}$\n",
    "* Initial and terminal objects are unique up to not just isomorphism, but *unique* isomorphism"
   ]
  },
  {
   "cell_type": "markdown",
   "metadata": {},
   "source": [
    "### Products\n",
    "* What pattern connects the product set with its constituents?\n",
    "    * Two functions, the projections, from the product to each of the constituents\n",
    "    * e.g. `fst :: (a, b) -> a`\n",
    "* Object $c$ and morphisms connecting it with $a$ and $b$\n",
    "* May be many such objects\n",
    "    * Int could be considered for product of `Int` and `Bool`\n",
    "        * `p :: Int -> Int`, `p x = x`\n",
    "        * `q :: Int -> Bool`, `q _ = True`\n",
    "    * `(Int, Int, Bool)` could be considered with the second elementy always being discarded\n",
    "    * First is too small, second is too big\n",
    "* A *product* of objects $a$ and $b$ is the object $c$ which has two projections such that for any other $c'$ having projections there is a unique $m$ from $c'$ to $c$ which factorizes those projections\n",
    "* The factorizer produces the $m$ from two candidates:\n",
    "    * `factorizer :: (c -> a) -> (c -> b) -> (c -> (a, b))`\n",
    "    * `factorizer p q = \\x -> (p x, q x)`\n",
    "        "
   ]
  },
  {
   "cell_type": "markdown",
   "metadata": {},
   "source": [
    "### Coproduct\n",
    "* A coproduct of two objects $a$ and $b$ is the object $c$ equipped with two injections such that for any other object $c’$ equipped with two injections there is a unique morphism $m$ from $c$ to $c’$ that factorizes those injections.\n",
    "* In category of sets, coproduct is *disjoint union*\n",
    "    * Disjoint union contains every element of both sets, and two copies of everything in their intersection (by tagging which set an element came from)\n",
    "* For types, coproduct is tagged union of two types\n",
    "    * Me: Anything that has injections from types A and B also has a function from A or B \"passing through\" the tagged union\n",
    "    * Defined in Haskell as `Either = Left a | Right b`\n",
    "* Factorizer for coproduct:\n",
    "    * `factorizer :: (a -> c) -> (b -> c) -> Either a b -> c`\n",
    "    * `factorizer i j (Left a)  = i a`\n",
    "    * `factorizer i j (Right b) = j b`\n",
    "    * `factorizer` takes 3 arguments, the 3rd of which is the left or right from `Either`"
   ]
  },
  {
   "cell_type": "markdown",
   "metadata": {},
   "source": [
    "### Asymmetry in category of sets\n",
    "    * Products are very different from Coproducts, initial objects are very different from final objects\n",
    "    * Therefore categorie of sets isn't symmetric with respect to arrow reversal"
   ]
  },
  {
   "cell_type": "markdown",
   "metadata": {},
   "source": [
    "### Problems\n",
    "1. Show that the terminal object is unique up to unique isomorphism.\n",
    "    * Let $t$ and $t'$ be terminal objects\n",
    "    * There is exactly one morphism $f$ from $t$ to $t'$, and exactly one $g$ from $t'$ to $t$\n",
    "    * There is exactly one morphism from $t$ to itself, and from $t'$ to itself, which must be the identities\n",
    "    * $f \\circ g$ is a morphism from $t'$ to $t'$, and so must be the identity\n",
    "    * $g \\circ f$ is a morphism from $t$ to $t$, and so must be the identity\n",
    "    * $f$ and $g$ are there for the unique isomorphisms between $t$ and $t'$ (unique b/c terminal requires exactly one morphism)\n",
    "2. What is a product of two objects in a poset? Hint: Use the universal construction\n",
    "    * The product of $a$ and $b$ is $\\min(a, b)$:\n",
    "        * $\\min(a, b) \\le a$ and $\\min(a, b) \\le b$\n",
    "        * For any $c$ such that $c \\le a$ and $c \\le b$, $c \\le \\min(a, b)$ as well\n",
    "3. What is a coproduct of two objects in a poset?\n",
    "    * The coproduct of $a$ and $b$ is $\\max(a, b)$:\n",
    "        * $a \\le \\max(a, b)a$ and $b \\le \\max(a, b)$\n",
    "        * For any $c$ such that $a \\le c$ and $b \\le c$, $\\max(a, b) \\le c$ as well\n",
    "4. Implement the equivalent of Haskell Either as a generic type in your favorite language (other than Haskell)."
   ]
  },
  {
   "cell_type": "code",
   "execution_count": 11,
   "metadata": {},
   "outputs": [],
   "source": [
    "class Either:\n",
    "    def __init__(self, left=None, right=None):\n",
    "        if not (left is None or right is None):\n",
    "            raise ValueError\n",
    "        self.left = left\n",
    "        self.right = right"
   ]
  },
  {
   "cell_type": "markdown",
   "metadata": {},
   "source": [
    "5. Show that Either is a “better” coproduct than int equipped with two injections:\n",
    "```c++\n",
    "int i(int n) { return n; }\n",
    "int j(bool b) { return b? 0: 1; }\n",
    "```\n",
    "Answer:\n",
    "```c++\n",
    "int m(Either const & e) {\n",
    "    if (e has int){\n",
    "        return e.int;\n",
    "    } else {\n",
    "        return e.bool ? 0: 1;\n",
    "    }\n",
    "}\n",
    "```\n",
    "\n",
    "6. Continuing the previous problem: How would you argue that int with the two injections i and j cannot be “better” than Either? \n",
    "* A candidate $m'$ from `int` to `Either` would need map `0` to either `True` or `0`, meaning it can't simultaneously factorize both of `Either`'s injections\n",
    "\n",
    "7. Still continuing: What about these injections?\n",
    "```c++\n",
    "int i(int n) { \n",
    "    if (n < 0) return n; \n",
    "    return n + 2;\n",
    "}\n",
    "int j(bool b) { return b? 0: 1; }```\n",
    "* Had to look this up: `int` has a finite number of values, so the first one is _not_ an injection\n",
    "\n",
    "8. Come up with an inferior candidate for a coproduct of int and bool that cannot be better than Either because it allows multiple acceptable morphisms from it to Either.\n",
    "* `(bool, int, bool)`, with injections\n",
    "* `i :: int -> (bool, int, bool)`\n",
    "* `j = \\x (False, x, False)`\n",
    "* `i :: bool -> (bool, int, bool)`\n",
    "* `i = \\x (True, 0, x)`\n",
    "* The behavior of the factorizing function `m` on inputs such as `(True, 17, True)` is not specified so it is not unique\n"
   ]
  },
  {
   "cell_type": "markdown",
   "metadata": {},
   "source": [
    "## 1.6 Simple Algebraic Data Types\n",
    "* **Set** is a symmetric monoidal category with respect to both products and coproducts\n",
    "    * Unit of product is \"unit\": `()`\n",
    "    * Identity of coproduct is `Void`\n",
    "* Analogy between product and sum types, and products and sums\n",
    "* Does multiplication by zero give zero?\n",
    "    * Yes, `(Int, Void)` has no elements\n",
    "* Distributive property\n",
    "    * Numbers: a * (b + c) = a * b + a * c\n",
    "    * Types: `(a, Either b c)` isomorphic to `Either (a, b) (a, c)`\n",
    "* Two connected monoids like this are called a _semiring_)"
   ]
  },
  {
   "cell_type": "markdown",
   "metadata": {},
   "source": [
    "### Problems\n",
    "1. Show the isomorphism between `Maybe a and Either () a`\n",
    "```Haskell\n",
    "type Other = Either () Int\n",
    "f :: Maybe Int -> Other\n",
    "f x =\n",
    "    case x of\n",
    "        Nothing -> Left ()\n",
    "        Just val -> Right val\n",
    "```\n",
    "```Haskell\n",
    "g :: Other -> Maybe Int\n",
    "g y =\n",
    "    case y of\n",
    "        Left () -> Nothing\n",
    "        Right val -> Just val\n",
    "```\n",
    "2. Implement `Shape` in C++ or Java as an interface and create two classes: `Circle` and `Rect`. Implement area as a virtual function.\n",
    "\n",
    "3. Add `circ` to your C++ or Java implementation. What parts of the original code did you have to touch?\n",
    "\n",
    "4. Continuing further: Add a new shape, `Square`, to `Shape` and make all the necessary updates. What code did you have to touch in Haskell vs. C++ or Java? (Even if you’re not a Haskell programmer, the modifications should be pretty obvious.)"
   ]
  },
  {
   "cell_type": "code",
   "execution_count": 12,
   "metadata": {},
   "outputs": [],
   "source": [
    "from abc import ABC, abstractmethod\n",
    "import math\n",
    "\n",
    "class Shape(ABC):\n",
    "    @abstractmethod\n",
    "    def area(self):\n",
    "        pass\n",
    "    \n",
    "    @abstractmethod\n",
    "    def circ(self):\n",
    "        pass\n",
    "    \n",
    "class Circle(Shape):\n",
    "    def __init__(self, radius):\n",
    "        super(Circle, self).__init__()\n",
    "        self.radius = radius\n",
    "    def area(self):\n",
    "        return math.pi * radius * radius\n",
    "    \n",
    "    def circ(self):\n",
    "        return 2 * self.radius * math.pi\n",
    "    \n",
    "class Rect(Shape):\n",
    "    def __init__(self, height, width):\n",
    "        super(Rect, self).__init__()\n",
    "        self.height = height\n",
    "        self.width = width\n",
    "    def area(self):\n",
    "        return self.height * self.width\n",
    "    \n",
    "    def circ(self):\n",
    "        return 2 * (self.height + self.width)\n",
    "    \n",
    "class Square(Rect):\n",
    "    def __init__(self, height):\n",
    "        super(Square, self).__init__(self.height, self.height)\n",
    "    def area(self):\n",
    "        return self.height * self.width\n",
    "    \n",
    "    def circ(self):\n",
    "        return 2 * (self.height + self.width)"
   ]
  },
  {
   "cell_type": "markdown",
   "metadata": {},
   "source": [
    "5. Show that a + a = 2 * a holds for types (up to isomorphism). Remember that 2 corresponds to `Bool`, according to our translation table.\n",
    "\n",
    "* The isomorphism is witnessed by the following:\n",
    "\n",
    "```Haskell\n",
    "f :: Either Int Int -> (Bool, Int)\n",
    "f x = case x of\n",
    "    Left val -> (False, val)\n",
    "    Right val -> (True, val)\n",
    "```\n",
    "```Haskell\n",
    "g :: (Bool, Int) -> Either Int Int\n",
    "g y = case y of\n",
    "    (False, val) -> Left val\n",
    "    (True, val) -> Right val\n",
    "```"
   ]
  },
  {
   "cell_type": "markdown",
   "metadata": {},
   "source": [
    "## 1.7 Functors\n",
    "* A functor is a mapping between categories\n",
    "* Between categories $C$ and $D$, a Functor $F$ maps objects to objects\n",
    "    * $F \\: a$ in $D$ is image of object $a$ from $C$\n",
    "* $F$ maps morphisms preserving connections\n",
    "    * So if $f :: a \\rightarrow b$ in $C$\n",
    "    * $F\\: f :: F\\: a \\rightarrow F\\: b$ in $D$ \n",
    "* It also preserves composition\n",
    "    * $h = g \\circ f$ implies\n",
    "    * $F\\: h = F\\: g \\circ F \\circ f$\n",
    "* Also preserves identity\n",
    "* Functors can merge objects and combine morphisms, but not \"tear\" a category"
   ]
  },
  {
   "cell_type": "markdown",
   "metadata": {},
   "source": [
    "### Functors in Programming\n",
    "* A Functor from a category to itself is called an endofunctor\n",
    "\n",
    "#### The Maybe Functor\n",
    "* `Maybe` maps from type `a` to type `Maybe a`\n",
    "* Not a type, but a _type constructor_\n",
    "* Only produces a type when given an argument\n",
    "* Define `fmap` which lifts a function to act on `Maybe` values (just return `Nothing` when given `Nothing`)"
   ]
  },
  {
   "cell_type": "markdown",
   "metadata": {},
   "source": [
    "### Equational Reasoning\n",
    "* In Haskell functions are defined as equalities, so can always substitute one side for the other\n",
    "* Example: Preserving identity\n",
    "\n",
    "```Haskell\n",
    "-- Prove:\n",
    "fmap id = id\n",
    "```\n",
    "```Haskell\n",
    "fmap id Nothing = Nothing -- definition of fmap\n",
    "= id Nothing -- definition of id\n",
    "```\n",
    "```Haskell\n",
    "fmap id (Just x) = Just (id x) -- definition of fmap\n",
    "= Just x -- definition of id\n",
    "= id (Just x) -- definition of id\n",
    "```"
   ]
  },
  {
   "cell_type": "markdown",
   "metadata": {},
   "source": [
    "### Typeclasses\n",
    "```Haskell\n",
    "class Functor f where\n",
    "    fmap :: (a -> b) -> f a -> f b\n",
    "```\n",
    "* $f$ is a type variable in the above, but the compiler can tell that it must be a constructor due to its usage\n",
    "\n",
    "### The List Functor\n",
    "* `fmap` defined recursively to match recursive definition of `List`\n",
    "\n",
    "### The Reader Functor\n",
    "* Map a type `a` to the type of a function returning `a`\n",
    "* Type signature of fmap:\n",
    "    * `fmap :: (a -> b) -> (r -> a) -> (r -> b)`\n",
    "    * i.e. Given a function `a->b` and a function `r->a`, produce a function `r->b`\n",
    "    * Just compose:\n",
    "        ```Haskell\n",
    "        instance Functor ((->) r) where\n",
    "            fmap f g = f . g\n",
    "        ```"
   ]
  },
  {
   "cell_type": "markdown",
   "metadata": {},
   "source": [
    "### Functors as Containers\n",
    "* Can think of reader Functor as a container if you consider functions as (usually infinite) tables\n",
    "* Think of objects of type generated by an endofunctor as containing a value or values of the type it was parameterized by\n",
    "* It could also be a recipe for generating those values\n",
    "* Doesn't matter if we can access the values, just want to manipulate them with functions\n",
    "    * If can acess values, want to see results of manipulation\n",
    "    * Otherwise just care that manipulations compose correctly and that identities work"
   ]
  },
  {
   "cell_type": "markdown",
   "metadata": {},
   "source": [
    "### Functor Composition\n",
    "* Functor composition is associative and every category has identity functor, so they have the properties required of morphisms\n",
    "* Category of all categories doesn't exist but\n",
    "* Category of _small_ categories (called **Cat**) exists\n",
    "* Small categories are those in which objects form a set"
   ]
  },
  {
   "cell_type": "markdown",
   "metadata": {},
   "source": [
    "### Problems\n",
    "\n",
    "1. Can we turn the Maybe type constructor into a functor by defining:\n",
    "`fmap _ _ = Nothing`\n",
    "which ignores both of its arguments?\n",
    "    * No, if you take an isomorphism between two types `a` and `b`, this will fail to produce an isomorphism between `Maybe a` and `Maybe b`.\n",
    "\n",
    "2. Prove functor laws for the reader functor. Hint: it’s really simple.\n",
    "* $(F\\: g \\circ f)(h) = g(f(h)) = (F\\: g)(F\\: f)(h)$\n",
    "\n",
    "3. Implement the reader functor in your second favorite language"
   ]
  },
  {
   "cell_type": "code",
   "execution_count": 13,
   "metadata": {},
   "outputs": [
    {
     "data": {
      "text/plain": [
       "289"
      ]
     },
     "execution_count": 13,
     "metadata": {},
     "output_type": "execute_result"
    }
   ],
   "source": [
    "def reader_fmap(func):\n",
    "    def inner(in_func):\n",
    "        def more_inner(x):\n",
    "            return func(in_func(x))\n",
    "        return more_inner\n",
    "    return inner\n",
    "square = lambda x: x * x\n",
    "reader_fmap(square)(int)('17')"
   ]
  },
  {
   "cell_type": "markdown",
   "metadata": {},
   "source": [
    "4. Prove the functor laws for the list functor. Assume that the laws are true for the tail part of the list you’re applying it to (in other words, use induction).\n",
    "    * Suppose the laws hold for all `Lists` of length $n$\n",
    "    * Identity maps to identity:\n",
    "        * `fmap id (Cons x t) = Cons (id x) (fmap id t)`\n",
    "        * `= Cons x (fmap id t)` (def of id)\n",
    "        * `= Cons x t` (inductive hyp.)\n",
    "        * `= id (Cons x t) (def of id)\n",
    "    * Composition:\n",
    "        * `fmap (f . g) (Cons x t) = Cons ((f . g) x) (fmap (f . g) t)`\n",
    "        * `= Cons ((f . g) x) (((fmap f) . (fmap g)) t)` (inductive hyp.)\n",
    "        * `= fmap f (Cons (g x) (fmap g t))` (def of fmap)\n",
    "        * `= ((fmap f) . (fmap . g)) (Cons x t)` (def of fmap)"
   ]
  },
  {
   "cell_type": "markdown",
   "metadata": {},
   "source": [
    "## 1.8 Functoriality\n",
    "### Bifunctors\n",
    "* Functors of two arguments\n",
    "    * From categories C and D, to E\n",
    "    * Consider pairs of morphisms from the product category $C \\times D$\n",
    "        * Composition: $(f, g) \\circ (f', g') = (f \\circ f', g \\circ g')$\n",
    "        * Identity is easy\n",
    "* Would like to think about each argument separately, but functoriality in each argument is not enough to prove joint functoriality\n",
    "    * If joint functoriality fails, category is called _premonoidal_\n",
    "* `first` and `second` in Haskell `Bifunctor`:\n",
    "    * `first` by default applies `bimap` to one function and the identity\n",
    "    * `second` applies `bimap` to the identity and another function"
   ]
  },
  {
   "cell_type": "markdown",
   "metadata": {},
   "source": [
    "#### Product and Coproduct Bifunctors\n",
    "* \"If the product exists for any pair of objects, the mapping from the objects to the product is bifunctorial\"\n",
    "* In **Hask**, forming a pair of types from two types is a Bifunctor\n",
    "    * `bimap` creates function which applies first function to first element, and second function to second element\n",
    "* Coproduct is also a bifunctor by duality\n",
    "    * `bimap` uses first function if `Either` is a `Left`, and second if it's a `Right`\n",
    "* Monoidal category also requires that monoidal product be a bifunctor"
   ]
  },
  {
   "cell_type": "markdown",
   "metadata": {},
   "source": [
    "#### Functorial Algebraic Data Types\n",
    "* View ADTs as Functors built up from `Identity` and `Const` using products and sums\n",
    "* `data Maybe a = Nothing | Just a` is isomorphic to `type Maybe a = Either (Const () a) (Identity a)`"
   ]
  },
  {
   "cell_type": "markdown",
   "metadata": {},
   "source": [
    "### The Writer Functor\n",
    "* `type Writer a = (a, String)`\n",
    "    * Product type which is functorial in `a`\n",
    "* Kleisli category defines composition and identity, but where is the `fmap` if it's related to a functor?\n",
    "* Given composition `>=>` and identity (`return`), can come up with:\n",
    "    * `fmap f = id >=> (\\x -> return (f x))`\n",
    "    * `id` is of type `Writer a -> Writer a` here\n",
    "    * fish operator takes value of output, applies `f` to it, then converts it to a `Writer b` with `return`\n",
    "* General enough that embellishment in a Kleisli category is always a functor (but not vice versa)\n",
    "* If there is an implementation of `fmap` for a type constructor that preserves identity, it is unique"
   ]
  },
  {
   "cell_type": "markdown",
   "metadata": {},
   "source": [
    "### Covariant and Contravariant Functors\n",
    "* Consider `type Op r a = a -> r`\n",
    "    * `fmap` type would be `(a -> b) -> (a -> r) -> (b -> r)`\n",
    "    * Given `a->b` and `a -> r`, can't make a function which takes `b` and gives `r`\n",
    "        * Would like to be able to invert the first argument, but can't\n",
    "        * Can take the arrow from the opposite category\n",
    "* $F :: C^{\\text{op}} \\rightarrow D$ maps $f^{\\text{op}} :: a \\rightarrow b$ to $F\\: f^{\\text{op}} :: F\\:a \\rightarrow F\\:b$\n",
    "* But $f^{\\text{op}}$ corresponds to some $f$ in the original category $C$\n",
    "* $F$ is a regular functor, but can define $G$ which maps from $C$ to $D$\n",
    "* $G$ maps objects in the same way, but reverses morphisms before mapping them\n",
    "* $G\\: f :: (b \\rightarrow a) \\rightarrow (G\\: a \\rightarrow G\\: b)$\n",
    "    * This is a contravariant functor"
   ]
  },
  {
   "cell_type": "markdown",
   "metadata": {},
   "source": [
    "### Profunctors\n",
    "* `(->)` is contravariant in first arg, covariant in second\n",
    "* If target category is **Set**, this is a _profunctor_\n",
    "    * $C^{\\text{op}} \\times D \\rightarrow \\textbf{Set}$"
   ]
  },
  {
   "cell_type": "markdown",
   "metadata": {},
   "source": [
    "### The Hom-Functor\n",
    "* Above are just cases of general statement that mapping of two objects, `a` and `b`, to set of morphisms (the hom-set `C(a, b)` between them is a functor\n",
    "    * $C^{\\text{op}} \\times C \\rightarrow \\textbf{Set}$\n",
    "* What does it do to morphisms?\n",
    "    * A morphism on $C^{\\text{op}} \\times C$ is a pair of morphisms $f:: a' \\rightarrow a$ and $g::b\\rightarrow b'$\n",
    "    * The lifting is a function from $C(a, b)$ to $C(a', b')$\n",
    "    * Pick any $h$ in $C(a, b)$ and assign to it $g \\circ h \\circ f$ which is an element of $C(a', b')$\n",
    "* So hom-functor is a profunctor"
   ]
  },
  {
   "cell_type": "markdown",
   "metadata": {},
   "source": [
    "### Problems\n",
    "1. Show that `data Pair a b = Pair a b` is a bifunctor. For additional credit implement all three methods of Bifunctor and use equational reasoning to show that these definitions are compatible with the default implementations whenever they can be applied.\n",
    "    * Identity:\n",
    "    * `bimap id id (Pair x y) = Pair (id x) (id y)`\n",
    "    * `= Pair x y`\n",
    "    * `= id (Pair x y)`\n",
    "    * Composition:\n",
    "    * `bimap (f . g) (h . i) (Pair x y) = Pair ((f . g) x) ((h . i) y)`\n",
    "    * `= bimap f h (Pair (g x) (i y))`\n",
    "    * `= (bimap f h) (bimap g i) (Pair x y)`\n",
    "    * Implementations\n",
    "        ```Haskell\n",
    "        bimap f g (Pair x y) = Pair (f x) (g y)\n",
    "        first f (Pair x y) = Pair (f x) y\n",
    "        second g (Pair x y) = Pair x (g y)\n",
    "        ```\n",
    "    * Proving they match seems boring\n",
    "2. Show the isomorphism between the standard definition of Maybe and this desugaring:\n",
    "`type Maybe' a = Either (Const () a) (Identity a)`\n",
    "```Haskell\n",
    "onetotwo :: Maybe a -> Maybe' a\n",
    "onetotwo Nothing = Left (Const ())\n",
    "onetotwo (Just x) = Right (Identity x)\n",
    "```\n",
    "```Haskell\n",
    "twotoone :: Maybe' a -> Maybe a\n",
    "twotoone (Left _) = Nothing\n",
    "twotoone (Right (Identity x)) = Just x\n",
    "```\n",
    "\n",
    "3. Let’s try another data structure. I call it a PreList because it’s a precursor to a List. It replaces recursion with a type parameter b.\n",
    "`data PreList a b = Nil | Cons a b`  \n",
    "You could recover our earlier definition of a `List` by recursively applying `PreList` to itself (we’ll see how it’s done when we talk about fixed points).  \n",
    "Show that `PreList` is an instance of `Bifunctor`.\n",
    "    * `bimap f g (Nil) = Nil`\n",
    "    * `bimap f g (Cons x y) = Cons (f x) (g y)`\n",
    "    * Identity:\n",
    "    * `bimap id id (Cons x y) = Cons (id x) (id y)`\n",
    "    * `= id (Cons x y)`\n",
    "    * Composition:\n",
    "    * `bimap (f . g) (h . i) (Cons x y) = Cons ((f.g) x) (h.i)y)`\n",
    "    * `= (bimap f h) (Cons (g x) (i y))`\n",
    "    * `= (bimap f h) ((bimap g i) (Cons x y))`\n",
    "    \n",
    "4. Show that the following data types define bifunctors in a and b:  \n",
    "    * `data K2 c a b = K2 c`\n",
    "        * `bimap f g (K2 x) = (K2 x)`\n",
    "        * Clearly respects identity\n",
    "        * Maps everything to identity so everything composes\n",
    "    * `data Fst a b = Fst a`\n",
    "        * `bimap f g (Fst x) = Fst (f x)`\n",
    "        * Clearly respects identity\n",
    "        * Composition\n",
    "        * `bimap (f . g) (h . i) (Fst x) = Fst ((f . g) x)`\n",
    "        * `= (bimap f h) (Fst (g x))`\n",
    "        * `= (bimap f h) ((bimap g i) (Fst x))`\n",
    "5. Define a bifunctor in a language other than Haskell. Implement bimap for a generic pair in that language."
   ]
  },
  {
   "cell_type": "code",
   "execution_count": 14,
   "metadata": {},
   "outputs": [],
   "source": [
    "def bimap_pair(f, g, tup):\n",
    "    x, y = tup\n",
    "    return f(x), g(y)"
   ]
  },
  {
   "cell_type": "markdown",
   "metadata": {},
   "source": [
    "6. Should `std::map` be considered a bifunctor or a profunctor in the two template arguments `Key` and `T`? How would you redesign this data type to make it so?\n",
    "    * `bimap :: (a -> b) -> (c -> d) -> (Map<a><c> -> Map<b><d>)`\n",
    "    * Can't work because keys can collide\n",
    "    * `dimap :: (b -> a) -> (c -> d) -> (Map<a><c> -> Map<b>,d>)`\n",
    "    * `dimap f g map` is a map where the `get` is:\n",
    "    * `get key = g . original_get . f`\n",
    "    * Probably doesn't work out of the box, so throw in some `Maybe`s"
   ]
  },
  {
   "cell_type": "markdown",
   "metadata": {},
   "source": [
    "## 1.9 Function Types\n",
    "* Function types are different from other types because each one is a set of morphisms between two objects in **Set**, i.e. a hom-set\n",
    "* Not true of all categories, so when hom-sets don't live in the category they are called \"external hom-sets\"\n",
    "* In some categories, can construct objects that represent hom-sets\n",
    "\n",
    "### Universal construction\n",
    "* Want to construct function type (internal hom-set) from scratch\n",
    "* Pattern involves three objects: the function type ($z$), the argument type ($a$), and the result type ($b$)\n",
    "    * These are connected by a pattern called _function application_ or _evaluation_\n",
    "* Would like a pair consisting of one element $f \\in z$ and one element $x \\in a$, so we can get $f\\: x \\in b$, but we can't look inside objects\n",
    "* Instead, consider product of $z$ and $a$, $z\\times a$, and pick an arrow $g :: z \\times a\\rightarrow b$\n",
    "* For ranking, say that $z$ with $g$ from $z\\times a$ to $b$ is better than $z'$ with $g'$ if there is an $h :: z' \\rightarrow z$ such that $g'$ factors through application of $g$.\n",
    "* Problem is, $g$ originates from $z \\times a$, so we need not just $h$, but $(h, \\text{id})$ (which we can get from the product because it is a bifunctor which doesn't just combine objects, but morphisms as well)\n",
    "    * $g' = g \\circ (h \\times \\text{id})$\n",
    "\n",
    "* Call the best object $a\\Rightarrow b$\n",
    "    * Comes with application, a morphism $\\text{eval} :: (a\\Rightarrow b \\times a) \\rightarrow b$\n",
    "    * Object is the best if any other candidate can uniquely be maped to it such that its application $g$ factors through `eval`"
   ]
  },
  {
   "cell_type": "markdown",
   "metadata": {},
   "source": [
    "### Currying\n",
    "* Think of function candidate morphism $g$ as a function of two variables, $z$ and $a$, $g :: z \\times a \\rightarrow b$\n",
    "* $g$ is a function from pairs of values\n",
    "* Universal proprety tells us that for each $g$, there is a unique $h$ that maps $z$ to a function object $a\\Rightarrow b$\n",
    "    * $h :: z \\rightarrow (a\\Rightarrow b)$\n",
    "* In **Set** this makes $h$ a higher order function, since it is taking in an argument of type $z$, and returning a function from $a$ to $b$\n",
    "* This means universal construction connects functions of two variables and functions of one variable which return functions.\n",
    "    * $h$ is the curried version of $g$\n",
    "    * One to one because:\n",
    "        * Universal construction requires that given any $g$ there is a unique $h$\n",
    "        * Given $h$, can reconstruct two argument version as $g = \\text{eval} \\circ (h \\times \\text{id})$\n",
    "* `curry :: ((a, b)->c) -> (a->b->c)` is the _factorizer_ for the universal constrcution of the function object\n",
    "    * A factorizer produces the factorizing function from a candidate\n",
    "    \n",
    "### Exponentials\n",
    "    * The function object (or internal hom-object) between objects $a$ and $b$ is called the exponential, $b^a$\n",
    "    * To start with, was necessary to use product in universal internal hom-object construction\n",
    "    * Given two finite types $a$ and $b$, number of functions from $a$ to $b$ is $|b|^{|a|}$"
   ]
  },
  {
   "cell_type": "markdown",
   "metadata": {},
   "source": [
    "### Curry-Howard Isomorphism\n",
    "* Correspondence between logic and algebraic data types\n",
    "* `Void` and `()` correspond to false and true\n",
    "* Product and sum types correspond to $\\land$ and $\\lor$\n",
    "* Function types correspond to $\\implies$\n",
    "* Every ADT can then be interpreted as a proposition (it is true if the type is inhabited, and false if it isn't)"
   ]
  },
  {
   "cell_type": "markdown",
   "metadata": {},
   "source": [
    "## 1.10 Natural Transformations\n",
    "* Think of functors as embedding one category in another\n",
    "* Natural transformations let compare different embeddings\n",
    "* \"Natural\" to use existing connections so\n",
    "    * Call transformation between functors $F$ and $G$ $\\alpha$\n",
    "    * $F\\: a \\rightarrow G\\: a$ is called component of $\\alpha$ at $a$\n",
    "    * If there is no such morphism, there can be no natural transformation\n",
    "* Morphisms also must be mapped: $F\\: f$ to $G\\: f$\n",
    "    * $F\\: f :: F\\: a \\rightarrow F\\: b$\n",
    "    * $G\\: f :: G\\: a \\rightarrow G\\: b$\n",
    "    * Natural transformation $\\alpha$ provides:\n",
    "        * $\\alpha_a :: F\\: a \\rightarrow G\\: a$\n",
    "        * $\\alpha_b :: F\\: b \\rightarrow G\\: b$\n",
    "    * Require that two ways of getting from $F\\: a$ to $G\\: b$ are equal\n",
    "        * $G\\: f \\circ \\alpha_a = \\alpha_b \\circ F\\: f$\n",
    "* If morphisms $F\\: f$ is invertible, naturality means:\n",
    "    * $\\alpha_b = (G\\: f) \\circ \\alpha_a \\circ {(F\\: f)}^{-1}$\n",
    "* Can also think of natural transformation as mapping objects to morphisms ($a \\rightarrow \\alpha_a$?),\n",
    "* Or can think of it as mapping morphisms to commuting squares\n",
    "* A natural transformation whose components are all isomorphisms is called a natural isomorphsism"
   ]
  },
  {
   "cell_type": "markdown",
   "metadata": {},
   "source": [
    "### Polymorphic Functions\n",
    "* To construct natural transformation, start with $a$. $F$ maps it to $F\\: a$, $G$ maps it to $G\\: a$\n",
    "* `alpha_a :: F a -> G a`\n",
    "* A natural transformation is a polymorphic function defined for all types $a$:\n",
    "    * `alpha :: forall a . F a -> G a`\n",
    "    * Normally write `alpha :: F a -> G a`\n",
    "    * Family of functions parameterized by $a$\n",
    "* In Haskell, `alpha :: F a -> G a` where $F$ and $G$ are functors automatically satisfies naturality condition:\n",
    "    * $G\\: f \\circ \\alpha_a = \\alpha_b \\circ F\\: f$\n",
    "    * `fmap_G f . alpha_a = alpha_b . fmap_f f`\n",
    "    * Apparently this is true because of \"theorems for free\"\n",
    "* Haskell functions must be defined uniformly for all types\n",
    "* If think of functors as containers, natural transformations are repackagings of the contents into another container\n",
    "* Natural transformations from or to `Const` just look polymorphic in return type or argument type"
   ]
  },
  {
   "cell_type": "markdown",
   "metadata": {},
   "source": [
    "### Category of functors\n",
    "* Morphisms are natural transformations\n",
    "* Written category of functors between $C$ and $D$ is written $Fun(C, D)$, or $D^C$\n",
    "    * Turns out category of small categories (**Cat**) is a cartesian closed category, which has an exponential for any pair of objects\n",
    "    * Can identify that exponential with the functor category between two categories"
   ]
  },
  {
   "cell_type": "markdown",
   "metadata": {},
   "source": [
    "### 2-Categories\n",
    "* Generalization of category, where there are 2-morphisms (morphisms between morphisms)\n",
    "* For **Cat**\n",
    "    * Objects: (Small) categories\n",
    "    * 1-morphisms: Functors\n",
    "    * 2-morphisms: Natural transformations\n",
    "* Instead of Hom-set, have Hom-category"
   ]
  },
  {
   "cell_type": "markdown",
   "metadata": {},
   "source": [
    "### Problems\n",
    "1. Define a natural transformation from the Maybe functor to the list functor. Prove the naturality condition for it.\n",
    "    * ```Haskell\n",
    "maybe_to_list :: Maybe a -> [a]\n",
    "maybe_to_list Nothing = []\n",
    "maybe_to_list (Just x)  = [x]\n",
    "```\n",
    "\n",
    "    * $Gf \\circ \\alpha_a = \\alpha_b \\circ Ff$\n",
    "    * Want to show: `fmap f (maybe_to_list x) = maybe_to_list (fmap f x)`\n",
    "    * If `x` is `Nothing`:\n",
    "    * `fmap f (maybe_to_list x) = fmap f []`\n",
    "    * `= []`\n",
    "    * `= maybe_to_list Nothing`\n",
    "    * `= maybe_to_list (fmap f Nothing)`\n",
    "    * `= maybe_to_list (fmap f x)`\n",
    "    * x = Just z:\n",
    "    * `fmap f (maybe_to_list x) = fmap f [z]`\n",
    "    * `= [f z]`\n",
    "    * `= maybe_to_list (Just (f z))`\n",
    "    * `= maybe_to_list (fmap f x)`\n",
    "\n",
    "2. Define at least two different natural transformations between `Reader ()` and the list functor. How many different lists of `()` are there?\n",
    "    * Two:\n",
    "    ```Haskell\n",
    "reader_to_list :: (() -> a) -> [a]\n",
    "reader_to_list f = [f ()]\n",
    "```\n",
    "```Haskell\n",
    "other_reader_to_list :: (() -> a) -> [a]\n",
    "other_reader_to_list f = []\n",
    "```\n",
    "\n",
    "3. There are 3, one returning `Just (f False)`, one returning `Just (f True)`, and one returning `Nothing`.\n",
    "\n",
    "4. Show that horizontal composition of natural transformation satisfies the naturality condition (hint: use components). It’s a good exercise in diagram chasing.\n",
    "    * I gave it a shot\n",
    "\n",
    "5. No\n",
    "\n",
    "6. Create a few test cases for the opposite naturality condition of transformations between different Op functors.\n",
    "    * Verify: `contramap f . alpha_a = alpha_b . contramap f`\n",
    "    * Natural transformation:\n",
    "    ```Haskell\n",
    "    bool_op_to_string_op :: Op Bool a -> Op String a\n",
    "    bool_op_to_string_op (Op f) = Op (\\x -> if (f x) then \"T\" else \"F\")\n",
    "```\n",
    "    * Verification\n",
    "    ```Haskell\n",
    "    let first = contramap f (bool_op_to_string_op op)\n",
    "    print (getOp first \"3\")\n",
    "    let second = bool_op_to_string_op (contramap f op)\n",
    "    print (getOp second \"3\")\n",
    "```\n"
   ]
  },
  {
   "cell_type": "markdown",
   "metadata": {},
   "source": [
    "## 2.2 Limits and Colimits\n",
    "* Want to generalize universal construction of product\n",
    "* Select objections $a$ and $b$ in $C$\n",
    "    * Represent selection as functor $D$ from category **2** (2 objects, identity morphisms only) to $C$\n",
    "* Next select candidate object $c$\n",
    "    * Use constant functor $\\Delta$ from **2** to $C$\n",
    "    * $\\Delta_c$ maps all elements of **2** to $c$, and all morphisms to $\\text{id}_c$\n",
    "* Now have two functors from **2** to $C$, so consider nautral transformations\n",
    "* $D\\: 1 = a$, $\\Delta_c\\: 1 = c$\n",
    "    * Component of natural transformation from $\\Delta_c$ to $D$ at 1 is a morphism $p : c \\rightarrow a$\n",
    "* $D\\: 2 = b$, $\\Delta_\\c: 2 = c$\n",
    "    * Component of nat. transform. at 2 is $q : c\\rightarrow b$\n",
    "* These two components are like the projections\n",
    "* Naturality automatically satisfied as there are no non-identity morphisms in **2**\n",
    "* In general, might be non-trivial morphisms, which constrain the transformation\n",
    "* A transformation between $\\Delta_c$ and $D$ is a _cone_ because the image of $\\Delta$ is like the apex\n",
    "* General case for building a cone:\n",
    "    * start with category $I$\n",
    "    * Pick $D$ from $I$ to $C$ and call it a _diagram_\n",
    "    * Pick $\\Delta_c$ from $I$ to $D$ to define apex $c$\n",
    "    * Natural transformation from $\\Delta_c$ to $D$ is the cone\n",
    "    * Naturality requirement:\n",
    "        * For any $f : a \\rightarrow b$\n",
    "        * $\\alpha_b \\circ \\Delta_c\\: f = D\\: f \\circ \\alpha_a$\n",
    "        * but $\\Delta_c$ maps all morphisms to identity so\n",
    "        * $\\alpha_b = D\\: f \\circ \\alpha_a$\n",
    "* Now want to find _universal cone_\n",
    "* Define category of cones, based on a functor $D$\n",
    "    * Not all objects $c$ in $C$ can be apex, because there is no natural transformation between $\\Delta_c$ and $D$\n",
    "    * Need morphisms between cones, which would be full determined by morphisms between their apices\n",
    "    * Generalization of factorization requirement for product is that exists unique $h: c \\rightarrow \\text{Lim}\\: D$ such that for $g': c \\rightarrow a$, $g: \\text{Lim}\\: D \\rightarrow a$, $g' = g \\circ h$\n",
    "    * Take these factorizing morphisms as morphisms for category of cones\n",
    "* Define universal cone as _terminal object_ in category of cones\n",
    "* Call universal cone the _limit_ of diagram $D$\n",
    "* Call apex _limit_ or _limit object_"
   ]
  },
  {
   "cell_type": "markdown",
   "metadata": {},
   "source": [
    "### Limit as a natural isomorphisms\n",
    "* Want to replace commutativity requirement for triangles linking cones with a naturality condition\n",
    "* Given any cone, there's a unique factoring morphism from its apex, $c$, to the apex of the universal cone, $\\text{Lim}\\: D$\n",
    "    * This gives a mapping of cones to morphisms\n",
    "* Special morphism is a member of hom-set $C(c, \\text{Lim}\\: D)$\n",
    "* Want to pick for each $c$, one morphisms from $C(c, \\text{Lim}\\: D)$\n",
    "* Mapping of $c$ to $C(c, \\text{Lim}\\: D)$ is a functor from $C$ to **Set**\n",
    "    * Contravariant\n",
    "    * Map $c'$ to set $C(c', \\text{Lim}\\: D)$\n",
    "    * Action on morphism $f : c' \\rightarrow c$\n",
    "    * Element of image of $c'$ is a morphism, $u : c \\rightarrow \\text{Lim}\\: D$\n",
    "    * $u \\circ f : c' \\text{Lim}\\: D$, which is an element of $C(c', \\text{Lim}\\: D)$, so this gives us our mapping of morphisms\n",
    "* Need another functor from $C$ to **Set**\n",
    "* This time consider set of cones, i.e. the set of natural transformations $\\text{Nat}(\\Delta_c, D)$\n",
    "* Map from $c$ to this set;\n",
    "    * Take a morphism $f : c' \\rightarrow c$\n",
    "    * Lifted $f$ should map $\\text{Nat}(\\Delta_c, D) \\rightarrow \\text{Nat}(\\Delta_{c'}, D)$ (because contravariant)\n",
    "    * Consder $\\alpha \\in \\text{Nat}(\\Delta_c, D)$\n",
    "    * $\\alpha_a : \\Delta_c a \\rightarrow D\\: a$\n",
    "    * $\\alpha_a : c \\rightarrow D \\: a$\n",
    "    * Need to use $f$ and $\\alpha$ to construct $\\beta \\in \\text{Nat}(\\Delta_{c'}, D)$, s.t.\n",
    "    * $\\beta_a : c' \\rightarrow D\\: a$\n",
    "    * Just use $\\beta_a = \\alpha_a \\circ f$\n",
    "* So now have two contravariant functors from $C$ to **Set**\n",
    "    * Functors from $C$ to **Set** are called presheaves\n",
    "    * First functor defined is _representable presheaf_\n",
    "* Now functor $D$ from $I$ to $C$ has a limit $\\text{Lim}\\: D$ if and only if there is a natural isomorphism between the two functors:\n",
    "    * $C(c, \\text{Lim}\\: D) \\simeq \\text{Nat}(\\Delta_c, D)$\n",
    "    * i.e. natural transformation where every component is an isomorphism        "
   ]
  },
  {
   "cell_type": "markdown",
   "metadata": {},
   "source": [
    "### Examples of Limits\n",
    "* Categorical product is limit of diagram generated by **2**\n",
    "* Terminal object is limit generated by empty category\n",
    "    * Functors from empty category select no object, so cone is only apex\n",
    "* An _equalizer_ is limit generated by two element category with two parallel morphisms going between them\n",
    "    * Diagram in $C$ consists of:\n",
    "    * Two objects $a$ and $b$ in $C$\n",
    "    * Two morphisms `f :: a -> b`, `g :: a -> b`\n",
    "    * Apex has projections `p :: c-> a`, `q :: c -> b`\n",
    "    * Need `q = f . p`, and `q = g . p`\n",
    "    * So `f . p = g . p`\n",
    "    * In **Set**, image of `p` selects a subset of `a` such that the images of `f` and `g` are equal on that set\n",
    "* A _pullback_ starts from three object category with the shape `1->2<-3`\n",
    "    * Diagram is often called a _cospan_\n",
    "    * Apex $d$\n",
    "    * Projectoins `p :: d -> a`, `q :: d -> c`, `r :: d -> b`\n",
    "    * Images of morphsims from original cateogry `f :: a -> b`, `g :: c -> b`\n",
    "    * Need `g . q = f . p = r` (can omit `r`)\n",
    "    * In **Set**, think of $d$ as consisting pairs of elements $x\\in a$ and $y \\in c$ for which $f(x) = g(y)$\n",
    "    * In programming languages with multiple inheritance:\n",
    "        * Consider B and C inheriting from A, and D inheriting from B and C\n",
    "        * If D is a pullback, then any class E that inherits from B and C is also a cubclass of D\n",
    "        * Casting E to D is safe if D is barebones combination of B and C with no additional data/overloading\n",
    "    * Another type inference example, the need to _unify_ types:\n",
    "        * Want to infer type of `twice f x = f (f x)`\n",
    "        * Assign preliminary types:\n",
    "            * `f :: t0`, `x :: t1`, `f x :: t2`, `f (f x) :: t3`\n",
    "            * `twice :: t0 -> t0 -> t1 -> t3`\n",
    "            * Apply constraints:\n",
    "            * `t0 = t1 -> t2`, `t0 = t2 -> t3`\n",
    "            * Need to unify constraints by finding types such that putting them into both constraints gives same type\n",
    "            * Could do `t1 = t2 = t3 = Int`, but this is not most general solution\n",
    "            * Most general solution is obtained via pullback"
   ]
  },
  {
   "cell_type": "markdown",
   "metadata": {},
   "source": [
    "### Colimits\n",
    "* Invert direction of all arrows in a cone to get a co-cone\n",
    "* Initial object is colimit corresponding to diagram base don empty category\n",
    "* Dual of pullback is called _pushout_\n",
    "    * Based on diagram called span, generated by `1<-2->3`\n",
    "    \n",
    "### Continuity\n",
    "* Functors come close to idea of continuity by not breaking existing connections\n",
    "* A _continuous functor_ `F` from `C` to `C'` must also preserve limits\n",
    "* So given `D` from `I` to `C` having a limit `Lim D`, `F . D` also must have a limit, and it must be equal to `F (Lim D)`\n",
    "* Functors preserve cones, commuting triangles, and factorization\n",
    "* Issue is uniqueness, there may be \"better cones\" in `C'` that weren't in `C`\n",
    "* Hom-functors are continuous\n",
    "    * Hom-functor `C(a, b)` is contravariant in first var, covariant in second\n",
    "    * Functor which maps $C^{\\text{op}} \\times C \\rightarrow \\textbf{Set}$\n",
    "    * Fixing second argument maps colimits in $C$ to limits in **Set**\n",
    "    * Fixing first argument maps limits to limits\n",
    "* In Haskell, hom-functor maps two types to a function type\n",
    "    * e.g. `newtype ToString a = ToString (a -> String)`\n",
    "    * Continuity "
   ]
  },
  {
   "cell_type": "markdown",
   "metadata": {},
   "source": [
    "### Problems\n",
    "1. How would you describe a pushout in the category of C++ classes?\n",
    "    * I believe that the push out of the bottom of a diamond is the most recent common ancestor of the two parent classes\n",
    "2. Show that the limit of the identity functor Id :: C -> C is the initial object.\n",
    "    * Consider cone which is a natural transformation between $\\Delta_{c}$ and $\\text{Id}$, call components $\\alpha$\n",
    "    * Then for any $f : a \\rightarrow b$ in $C$\n",
    "    * Exists $g : c \\rightarrow b$ such that $g = \\text{Id}\\:f \\circ \\alpha_a$\n",
    "    * Because all $b$s are on the receiving end of at least one morphism ($\\text{Id}_b$), there is a morphism from $c$ to every $b$\n",
    "    * So every cone apex has a morphism to every object in $C$\n",
    "    * let $c$ be initial object\n",
    "    * Let $f : c \\rightarrow a$ be the single morphism connecting $c$ and $a$\n",
    "    * Let $\\alpha$ be edges of $c'$ cone\n",
    "    * $f \\circ \\alpha_c = \\alpha_a$ by naturality\n",
    "    * But this means that $\\alpha_c$ is the factorizer, so $c$ is the limit of $\\text{Id}$"
   ]
  },
  {
   "cell_type": "markdown",
   "metadata": {},
   "source": [
    "3. Subsets of a given set form a category. A morphism in that category is defined to be an arrow connecting two sets if the first is the subset of the second. What is a pullback of two sets in such a category? What’s a pushout? What are the initial and terminal objects?\n",
    "    * Initial object is empty set\n",
    "    * Terminal object is entire set\n",
    "    * Pullback is intersection? (why isn't this product)\n",
    "    * Pushout is union? (why isn't this coproduct)\n",
    "    \n",
    "4. Can you guess what a coequalizer is?\n",
    "    * Had to look this up, but given maps $f$ and $g$ between $X$ and $Y$ in **Set**, the co-equalizer is a set of equivalence classes on $Y$ for the equivalence relation $\\sim$ satisfying:\n",
    "        * $f(x) \\sim g(x)$\n",
    "5. Show that, in a category with a terminal object, a pullback towards the terminal object is a product.\n",
    "    * Pullback is `1->2<-3`\n",
    "    * Call terminal object $t$, other two objects $a$ and $b$\n",
    "    * Consider pullback $p$ (with cone edges $f : p\\rightarrow a$ and $g: p\\rightarrow b$) and candidate product $p'$ (of $a$ and $b$)\n",
    "    \n",
    "    * Candidate product $p'$ is also a candidate for pullback towards the terminal object because there is an arrow $p' \\rightarrow t$, as well as arrows $f': p' \\rightarrow a$, $g': p' \\rightarrow b$, $a \\rightarrow t$, and $b \\rightarrow t$\n",
    "    * So there exists a factoring arrow $h : p' \\rightarrow p$ such that $f' = f \\circ h$, and $g' = g\\circ h$\n",
    "    * So $p$ is also a better product than $p'$\n",
    "6. Similarly, show that a pushout from an initial object (if one exists) is the coproduct.\n",
    "    * Pushout is `1<-2->3`\n",
    "    * Call initial object $i$, and let other two objects be $a$ and $b$\n",
    "    * Consider pushout $p$ (with co-cone edges $f: a\\rightarrow p$ and $g: b\\rightarrow p$) and candidate coproduct $p'$ of $a$ and $b$\n",
    "    * Candidate co-product $p'$ is also a candidate for pushout from initial object because there are arrows $i\\rightarrow p'$, $f': p'\\rightarrow a$, $g': p'\\rightarrow b$, $i\\rightarrow a$, and $i\\rightarrow b$\n",
    "    * So there exists a factoring arrow $h: p\\rightarrow p'$ such that $f' = h \\circ f$ and $g' = h\\circ g$\n",
    "    * So $p$ is a better coproduct than $p'$"
   ]
  },
  {
   "cell_type": "markdown",
   "metadata": {},
   "source": [
    "## 2.3 Free Monoids\n",
    "* Given initial set and identity $e$, generate all pairs\n",
    "    * Identify $(a, e)$ and $(e, a)$ with $a$\n",
    "* Repeat forever\n",
    "    * Also identify products that should be equal by associativity\n",
    "* If $e$ is the empty list, then this is equivalent to list concatentation\n",
    "* e.g. `[Bool]` is the free monoid generated by `Bool`\n",
    "\n",
    "### Free monoid universal construction\n",
    "* **Mon** is category of monoids with homomorphisms as morphisms\n",
    "* Every monoid is just a set, so can map monoids to sets and homomorphisms to functions\n",
    "    * This is the _forgetful functor_\n",
    "* Construction\n",
    "    * Start with a set of generators $x$ in **Set**\n",
    "    * Match pattern $p :: x \\rightarrow U\\: m$ where $U$ is forgetful functor from **Mon** to **Set**\n",
    "    * $p$ identifies generators inside $U \\: m$\n",
    "    * Some functions might collapse some points, but the universal construction will handle that\n",
    "    * Ranking candidates:\n",
    "        * Consider another monoid $n$ and function $q :: x \\rightarrow U\\: n$ which identifies the generators in $n$'s image\n",
    "        * $m$ is better than $n$ if there is a morphism in **Mon** $h::m\\rightarrow n$ whose image under $U$ factorizes through $p$, i.e. $q = U\\: h \\circ p$\n",
    "    * Morphism $h$ is where some elements can get identified with each other, so any other monoid with generators $x$ is just free monoid with some collapsed elements"
   ]
  },
  {
   "cell_type": "markdown",
   "metadata": {},
   "source": [
    "### Problems\n",
    "1. You might think (as I did, originally) that the requirement that a homomorphism of monoids preserve the unit is redundant. After all, we know that for all `a`\n",
    "\n",
    " `h a * h e = h (a * e) = h a`  \n",
    "\n",
    " So `h e` acts like a right unit (and, by analogy, as a left unit). The problem is that `h a`, for all `a` might only cover a sub-monoid of the target monoid. There may be a “true” unit outside of the image of `h`. Show that an isomorphism between monoids that preserves multiplication must automatically preserve unit.\n",
    "    * Let $f$ be an isomorphism of monoids between $M$ and $N$ having units $e_M$ and $e_N$ respectively\n",
    "    * For any $y \\in N$, let $x$ be the preimage of $y$ under $f$\n",
    "    * $y = f(x) = f(e_M \\times_M x) = f(e_M) \\times_N f(x) = f(e_M) \\times_N y$\n",
    "    * Same sort of thing for left multiplication by the unit\n",
    "    * So $f(e_M) = e_N$\n",
    "    \n",
    "2. Consider a monoid homomorphism from lists of integers with concatenation to integers with multiplication. What is the image of the empty list `[]`? Assume that all singleton lists are mapped to the integers they contain, that is `[3]` is mapped to `3`, etc. What’s the image of `[1, 2, 3, 4]`? How many different lists map to the integer 12? Is there any other homomorphism between the two monoids?\n",
    "    * Lists map to the product of their elements, so:\n",
    "    * The image of the empty list is 1 `[]` is the concatenative identity\n",
    "    * The image of `[1,2,3,4]` is 24\n",
    "    * An infinite number of lists map to 12, because they may contain an arbitrary number of 1s\n",
    "    * Another example of a homomorphism is mapping a list of length $L$ to $2^L$\n",
    "3. What is the free monoid generated by a one-element set? Can you see what it’s isomorphic to?\n",
    "    * The free monoid generated by a one element set (call the element $a$) just consists of the identity and powers of $a$. It is isomorphic to the natural numbers with addition."
   ]
  },
  {
   "cell_type": "markdown",
   "metadata": {},
   "source": [
    "## 2.4 Representable Functors\n",
    "### The Hom Functor\n",
    "* Every category has canonical mapping to **Set**\n",
    "    * Fix $a$ in $C$ and pick $x \\in C$\n",
    "    * Hom-set $C(a, x)$ is a set in **Set**\n",
    "    * Vary $x$, keeping $a$ fixed, $C(a, x)$ varies in **Set**\n",
    "    * Maps morphisms as follows:\n",
    "        * $x$ maps to $C(a, x)$ and $y$ maps to $C(a, y)$, so\n",
    "        * $f$ must be mapped to a function $C(a, x) \\rightarrow C(a, y)$\n",
    "        * Will define function pointwise, so consider $h \\in C(a, x)$\n",
    "        * $f \\circ h :: a\\rightarrow y$ is in $C(a, y)$\n",
    "        * Write this function as $C(a, f)$, and its action on $h$ as $C(a, f) h = f \\circ h$\n",
    "    * This is the `Reader` functor in Haskell `type Reader a x = a -> x`\n",
    "* Now consider fixing second argument: $C(-, a)$ is a contravariant functor\n",
    "* Called `Op` in earlier chapters\n",
    "* Varying both, get profunctor\n",
    "* $C(-, =) :: C^{\\text{op}} \\times C \\rightarrow \\textbf{Set}$\n"
   ]
  },
  {
   "cell_type": "markdown",
   "metadata": {},
   "source": [
    "### Representable Functors\n",
    "* For every $a$ in $C$, get a functor from $C$ to **Set**\n",
    "* Preserves structure, so called a _representation_\n",
    "* Objects in morphisms in $C$ are represented as sets and functions\n",
    "* $C(a, -)$ is sometimes called representable, as is any functor $F$ which is naturally isomorphic to the hom-functor for some $a$\n",
    "* Generally think of isomorphic sets as identical, and more generally think of isomorphic objects as identical\n",
    "* Since functors form a category with natural transformations as morphisms, can think of two isomorphic functors as identical\n",
    "* For a functor $F$ to be representable, require that there is an object $a\\in C$, and natural transformations $\\alpha : C(a, -) \\rightarrow F$ and $\\beta: F \\rightarrow C(a, -)$ such that their composition is the identity\n",
    "* The component of $\\alpha$ at some object $x$ is:\n",
    "    * $\\alpha_x : C(a, x) \\rightarrow F\\: x$, which is a function in **Set**\n",
    "    * Naturality tells us that for any $f: x \\rightarrow y$\n",
    "        * $F\\: f \\circ \\alpha_x = \\alpha_y \\circ C(a, f)$\n",
    "    * In Haskell: `fmap f . alpha = alpha . fmap f`\n",
    "        * Right fmap is fmap for `Reader`, so can say that for any $h$ in $C(a, x)$:\n",
    "        * `fmap f (alpha h) = alpha (f . h)`\n",
    "* $\\beta$ goes opposite direction:\n",
    "    * $\\beta_x : F\\: x \\rightarrow C(a, x)$\n",
    "    * Must have $\\beta \\circ \\alpha = \\alpha \\circ \\beta = \\text{id}$\n",
    "    * Later: There is always a natural transformation from $C(a, -)$ to any **Set**-value functor $F$ if $F\\: a$ is non-empty (Yoneda's Lemma)\n",
    "\n",
    "* Example: list functor, and `Int` as `a`\n",
    " ```haskell\n",
    " alpha :: forall x. (Int -> x) -> [x]\n",
    " alpha h = map h [12]\n",
    " ```\n",
    "    * Naturality just says `map f (map h [12]) = map (f \\circ h) [12]\n",
    "    * Inverse can't exist since would have to go from list of type $x$ to a function returning $x$\n",
    "        * Can't try returning head of list, as won't work for empty list\n",
    "    * List functor is not representable\n",
    "* If haskell functors are like containers, representable functors are like storing memoized results of function calls\n",
    "    * Representing object, the type $a$ in $C(a, -)$ is the key type\n",
    "* For example, a stream of values is representable\n",
    "    * `data Stream x = Cons x (Stream x)`\n",
    "    * Think of as memoized values of a function which takes `Integer` as an argument (technically natural numbers)\n",
    "    * ($\\alpha$ is `tabulate` and $\\beta$ is `index`)\n",
    "    ```haskell\n",
    "    instance Representable Stream where\n",
    "    type Rep Stream = Integer\n",
    "    tabulate f = Cons (f 0) (tabulate (f . (+1)))\n",
    "    index (Cons b bs) n = if n == 0 then b else index bs (n - 1)\n",
    "    ```\n",
    "* Representability of covariant functors is similar but use $C(-, a)$\n",
    "* Hom-sets can be interanlly treated as exponential objects in cartesian closed categories\n",
    "* Hom-set $C(a, x)$ is equivalent to $x^a$ and for representable $F$ can write: $-^a = F$\n",
    "    * Formally taking \"log\" gives $a = \\log F$\n",
    "    * Log properties give that functors based on product types can be represented by sum types, and sum type functors aren't generally representable"
   ]
  },
  {
   "cell_type": "code",
   "execution_count": null,
   "metadata": {},
   "outputs": [],
   "source": []
  }
 ],
 "metadata": {
  "kernelspec": {
   "display_name": "Python 3",
   "language": "python",
   "name": "python3"
  },
  "language_info": {
   "codemirror_mode": {
    "name": "ipython",
    "version": 3
   },
   "file_extension": ".py",
   "mimetype": "text/x-python",
   "name": "python",
   "nbconvert_exporter": "python",
   "pygments_lexer": "ipython3",
   "version": "3.8.5"
  }
 },
 "nbformat": 4,
 "nbformat_minor": 4
}
